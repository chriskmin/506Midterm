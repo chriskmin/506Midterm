{
 "cells": [
  {
   "cell_type": "markdown",
   "metadata": {},
   "source": [
    "# Libraries"
   ]
  },
  {
   "cell_type": "code",
   "execution_count": 1,
   "metadata": {},
   "outputs": [
    {
     "name": "stdout",
     "output_type": "stream",
     "text": [
      "INFO: Pandarallel will run on 8 workers.\n",
      "INFO: Pandarallel will use standard multiprocessing data transfer (pipe) to transfer data between the main process and workers.\n"
     ]
    }
   ],
   "source": [
    "import numpy as np\n",
    "import pandas as pd\n",
    "import seaborn as sns\n",
    "import matplotlib.pyplot as plt\n",
    "from pandarallel import pandarallel\n",
    "from sklearn.model_selection import train_test_split\n",
    "from sklearn.metrics import accuracy_score, confusion_matrix\n",
    "from sklearn.ensemble import GradientBoostingClassifier\n",
    "from textblob import TextBlob\n",
    "from os.path import exists\n",
    "\n",
    "# Initialize Pandarallel\n",
    "pandarallel.initialize(progress_bar=True)"
   ]
  },
  {
   "cell_type": "markdown",
   "metadata": {},
   "source": [
    "# Loading the Files\n",
    "\n",
    "Download the csv files into the `data/` directory."
   ]
  },
  {
   "cell_type": "code",
   "execution_count": 2,
   "metadata": {},
   "outputs": [
    {
     "name": "stdout",
     "output_type": "stream",
     "text": [
      "Train data shape: (1697533, 9)\n",
      "Test data shape: (212192, 2)\n",
      "\n",
      "        Id   ProductId          UserId  HelpfulnessNumerator  \\\n",
      "0   914403  B0009W5KHM   AV6QDP8Q0ONK4                     2   \n",
      "1   354887  6303079709  A2I8RXJN80A2D2                     0   \n",
      "2  1407653  B004H0M2XC  A3FHV3RV8Z12E6                     0   \n",
      "3  1377458  B003ZJ9536  A12VLTA3ZHVPUY                     1   \n",
      "4   475323  630574453X  A13NM1PES9OXVN                     2   \n",
      "\n",
      "   HelpfulnessDenominator        Time  \\\n",
      "0                       2  1341014400   \n",
      "1                       0  1168819200   \n",
      "2                       0  1386201600   \n",
      "3                       1  1348704000   \n",
      "4                       3   970012800   \n",
      "\n",
      "                                         Summary  \\\n",
      "0                                  GOOD FUN FILM   \n",
      "1                                   Movie Review   \n",
      "2             When is it a good time to Consent?   \n",
      "3                                          TRUTH   \n",
      "4  Intelligent and bittersweet -- stays with you   \n",
      "\n",
      "                                                Text  Score  \n",
      "0  While most straight to DVD films are not worth...    5.0  \n",
      "1  I have wanted this one for sometime, also.  I ...    5.0  \n",
      "2  Actually this was a pretty darn good indie fil...    4.0  \n",
      "3  Episodes 37 to 72 of the series press on in a ...    5.0  \n",
      "4  I was really impressed with this movie, but wa...    3.0  \n",
      "\n",
      "        Id  Score\n",
      "0  1323432    NaN\n",
      "1  1137299    NaN\n",
      "2  1459366    NaN\n",
      "3   931601    NaN\n",
      "4  1311995    NaN\n",
      "\n",
      "                 Id  HelpfulnessNumerator  HelpfulnessDenominator  \\\n",
      "count  1.697533e+06          1.697533e+06            1.697533e+06   \n",
      "mean   8.487660e+05          3.569048e+00            5.301422e+00   \n",
      "std    4.900357e+05          1.727883e+01            2.024445e+01   \n",
      "min    0.000000e+00          0.000000e+00            0.000000e+00   \n",
      "25%    4.243830e+05          0.000000e+00            0.000000e+00   \n",
      "50%    8.487660e+05          1.000000e+00            1.000000e+00   \n",
      "75%    1.273149e+06          3.000000e+00            5.000000e+00   \n",
      "max    1.697532e+06          6.084000e+03            6.510000e+03   \n",
      "\n",
      "               Time         Score  \n",
      "count  1.697533e+06  1.485341e+06  \n",
      "mean   1.262422e+09  4.110517e+00  \n",
      "std    1.289277e+08  1.197651e+00  \n",
      "min    8.793792e+08  1.000000e+00  \n",
      "25%    1.164413e+09  4.000000e+00  \n",
      "50%    1.307491e+09  5.000000e+00  \n",
      "75%    1.373242e+09  5.000000e+00  \n",
      "max    1.406074e+09  5.000000e+00  \n"
     ]
    },
    {
     "data": {
      "image/png": "[encoded data removed]",
      "text/plain": [
       "<Figure size 640x480 with 1 Axes>"
      ]
     },
     "metadata": {},
     "output_type": "display_data"
    },
    {
     "name": "stdout",
     "output_type": "stream",
     "text": [
      "\n",
      "EVERYTHING IS PROPERLY SET UP! YOU ARE READY TO START\n"
     ]
    }
   ],
   "source": [
    "train_data = pd.read_csv('train.csv')\n",
    "test_data = pd.read_csv('test.csv')\n",
    "\n",
    "print(\"Train data shape:\", train_data.shape)\n",
    "print(\"Test data shape:\", test_data.shape)\n",
    "print()\n",
    "\n",
    "print(train_data.head())\n",
    "print()\n",
    "print(test_data.head())\n",
    "print()\n",
    "\n",
    "print(train_data.describe())\n",
    "\n",
    "# Visualize the distribution of 'Score'\n",
    "train_data['Score'].value_counts().plot(kind='bar', legend=True, alpha=.5)\n",
    "plt.show()\n",
    "print()\n",
    "print(\"EVERYTHING IS PROPERLY SET UP! YOU ARE READY TO START\")"
   ]
  },
  {
   "cell_type": "markdown",
   "metadata": {},
   "source": [
    "# Adding Features"
   ]
  },
  {
   "cell_type": "code",
   "execution_count": 3,
   "metadata": {},
   "outputs": [],
   "source": [
    "def add_features_to(df, training_data=None):\n",
    "    df['Helpfulness'] = df['HelpfulnessNumerator'] / df['HelpfulnessDenominator']\n",
    "    df['Helpfulness'] = df['Helpfulness'].fillna(0)\n",
    "    df['IsHelpful'] = (df['HelpfulnessNumerator'] > 0).astype(int)\n",
    "    df['HelpfulnessDifference'] = df['HelpfulnessNumerator'] - df['HelpfulnessDenominator']\n",
    "    df['WeightedHelpfulness'] = df['HelpfulnessNumerator'] / (df['HelpfulnessDenominator'] + 1)\n",
    "    time_series = pd.to_datetime(df['Time'], unit='s')\n",
    "    df['Year'] = time_series.dt.year\n",
    "    df['Month'] = time_series.dt.month\n",
    "    df['DayOfWeek'] = time_series.dt.dayofweek\n",
    "    df['Quarter'] = time_series.dt.quarter\n",
    "    \n",
    "    # User and Product history features\n",
    "    if training_data is not None:\n",
    "        user_means = training_data.groupby('UserId')['Score'].mean()\n",
    "        product_means = training_data.groupby('ProductId')['Score'].mean()\n",
    "        global_mean = training_data['Score'].mean()\n",
    "    else:\n",
    "        user_means = df.groupby('UserId')['Score'].mean()\n",
    "        product_means = df.groupby('ProductId')['Score'].mean()\n",
    "        global_mean = df['Score'].mean()\n",
    "    \n",
    "    df['UserMeanScore'] = df['UserId'].map(user_means)\n",
    "    df['ProductMeanScore'] = df['ProductId'].map(product_means)\n",
    "    df['UserMedianScore'] = df['UserId'].map(training_data.groupby('UserId')['Score'].median() if training_data is not None else df.groupby('UserId')['Score'].median())\n",
    "    df['UserReviewCount'] = df['UserId'].map(training_data.groupby('UserId')['Score'].count() if training_data is not None else df.groupby('UserId')['Score'].count()).fillna(0)\n",
    "    \n",
    "    # Fill missing values with global mean\n",
    "    df['UserMeanScore'] = df['UserMeanScore'].fillna(global_mean)\n",
    "    df['ProductMeanScore'] = df['ProductMeanScore'].fillna(global_mean)\n",
    "    \n",
    "    # Interaction term\n",
    "    df['UserProductInteraction'] = df['UserMeanScore'] * df['ProductMeanScore']\n",
    "    \n",
    "    # Parallelized text-based features\n",
    "    df['Text'] = df['Text'].fillna(\"\").astype(str)  # Ensure all text fields are strings\n",
    "    df['ReviewLength'] = df['Text'].parallel_apply(lambda x: len(x.split()))\n",
    "    df['UniqueWords'] = df['Text'].parallel_apply(lambda x: len(set(x.split())))\n",
    "    df['AverageWordLength'] = df['Text'].parallel_apply(lambda x: np.mean([len(word) for word in x.split()]) if x.split() else 0)\n",
    "    df['Sentiment'] = df['Text'].parallel_apply(lambda x: TextBlob(x).sentiment.polarity)\n",
    "    \n",
    "    return df\n",
    "\n",
    "# Cell 6: Apply Feature Engineering to Data\n",
    "if exists('X_train.csv'):\n",
    "    X_train = pd.read_csv(\"X_train.csv\")\n",
    "    X_submission = pd.read_csv(\"X_submission.csv\")\n",
    "else:\n",
    "    train = add_features_to(train_data)\n",
    "    X_submission = pd.merge(train, test_data, left_on='Id', right_on='Id').drop(columns=['Score_x']).rename(columns={'Score_y': 'Score'})\n",
    "    X_submission = add_features_to(X_submission, train_data)\n",
    "    X_train = train[train['Score'].notnull()]\n",
    "    X_submission.to_csv(\"X_submission.csv\", index=False)\n",
    "    X_train.to_csv(\"X_train.csv\", index=False)"
   ]
  },
  {
   "cell_type": "markdown",
   "metadata": {},
   "source": [
    "# Sample + Split into training and testing set"
   ]
  },
  {
   "cell_type": "code",
   "execution_count": 4,
   "metadata": {},
   "outputs": [
    {
     "name": "stdout",
     "output_type": "stream",
     "text": [
      "Training Set Shape: X_train: (1114005, 25), Y_train: (1114005,)\n",
      "Testing Set Shape: X_test: (371336, 25), Y_test: (371336,)\n"
     ]
    }
   ],
   "source": [
    "from sklearn.model_selection import train_test_split\n",
    "\n",
    "X = X_train.drop(columns=['Score'])\n",
    "Y = X_train['Score']\n",
    "X_train, X_test, Y_train, Y_test = train_test_split(X, Y, test_size=0.25, random_state=0)\n",
    "\n",
    "print(f\"Training Set Shape: X_train: {X_train.shape}, Y_train: {Y_train.shape}\")\n",
    "print(f\"Testing Set Shape: X_test: {X_test.shape}, Y_test: {Y_test.shape}\")\n"
   ]
  },
  {
   "cell_type": "markdown",
   "metadata": {},
   "source": [
    "# Feature Selection"
   ]
  },
  {
   "cell_type": "code",
   "execution_count": 5,
   "metadata": {},
   "outputs": [],
   "source": [
    "# Define other selected features\n",
    "features = [\n",
    "    'HelpfulnessNumerator', 'HelpfulnessDenominator', 'Helpfulness', 'IsHelpful', \n",
    "    'HelpfulnessDifference', 'WeightedHelpfulness', 'Year', 'Month', 'DayOfWeek', \n",
    "    'Quarter', 'UserMeanScore', 'ProductMeanScore', 'UserReviewCount', \n",
    "    'UserProductInteraction', 'ReviewLength', 'UniqueWords', 'AverageWordLength', 'Sentiment'\n",
    "]\n",
    "\n",
    "# Select features for each dataset\n",
    "X_train_select = X_train[features]\n",
    "X_test_select = X_test[features]\n",
    "X_submission_select = X_submission[features]"
   ]
  },
  {
   "cell_type": "markdown",
   "metadata": {},
   "source": [
    "# Model Creation"
   ]
  },
  {
   "cell_type": "code",
   "execution_count": 10,
   "metadata": {},
   "outputs": [
    {
     "name": "stdout",
     "output_type": "stream",
     "text": [
      "Accuracy on testing set = 0.6291256436219489\n"
     ]
    }
   ],
   "source": [
    "from sklearn.ensemble import GradientBoostingClassifier\n",
    "from sklearn.metrics import accuracy_score\n",
    "\n",
    "# Initialize and train the model with all cores\n",
    "model = GradientBoostingClassifier(n_estimators=200, learning_rate=0.3, random_state=42)\n",
    "model.fit(X_train_select, Y_train)\n",
    "\n",
    "# Predict and evaluate\n",
    "Y_test_predictions = model.predict(X_test_select)\n",
    "print(\"Accuracy on testing set =\", accuracy_score(Y_test, Y_test_predictions))"
   ]
  },
  {
   "cell_type": "markdown",
   "metadata": {},
   "source": [
    "# Model Evaluation"
   ]
  },
  {
   "cell_type": "code",
   "execution_count": 11,
   "metadata": {},
   "outputs": [
    {
     "data": {
      "image/png": "[encoded data removed]",
      "text/plain": [
       "<Figure size 640x480 with 2 Axes>"
      ]
     },
     "metadata": {},
     "output_type": "display_data"
    }
   ],
   "source": [
    "cm = confusion_matrix(Y_test, Y_test_predictions, normalize='true')\n",
    "sns.heatmap(cm, annot=True)\n",
    "plt.title('Confusion Matrix')\n",
    "plt.xlabel('Predicted')\n",
    "plt.ylabel('True')\n",
    "plt.show()"
   ]
  },
  {
   "cell_type": "markdown",
   "metadata": {},
   "source": [
    "# Create submission file"
   ]
  },
  {
   "cell_type": "code",
   "execution_count": 12,
   "metadata": {},
   "outputs": [
    {
     "name": "stdout",
     "output_type": "stream",
     "text": [
      "Submission file created: 'submission.csv'\n"
     ]
    }
   ],
   "source": [
    "X_submission['Score'] = model.predict(X_submission_select)\n",
    "submission = X_submission[['Id', 'Score']]\n",
    "submission.to_csv(\"submission.csv\", index=False)\n",
    "print(\"Submission file created: 'submission.csv'\")"
   ]
  }
 ],
 "metadata": {
  "kernelspec": {
   "display_name": "env",
   "language": "python",
   "name": "python3"
  },
  "language_info": {
   "codemirror_mode": {
    "name": "ipython",
    "version": 3
   },
   "file_extension": ".py",
   "mimetype": "text/x-python",
   "name": "python",
   "nbconvert_exporter": "python",
   "pygments_lexer": "ipython3",
   "version": "3.11.8"
  }
 },
 "nbformat": 4,
 "nbformat_minor": 2
}
